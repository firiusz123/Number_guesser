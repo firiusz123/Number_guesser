{
 "cells": [
  {
   "cell_type": "code",
   "execution_count": null,
   "metadata": {},
   "outputs": [],
   "source": [
    "import torch\n",
    "import torch.nn as nn\n",
    "import torch.optim as optim\n",
    "import torchvision\n",
    "import torchvision.transforms as transforms\n",
    "from torch.utils.data import DataLoader\n",
    "import torch.nn.functional as F\n",
    "from PIL  import Image\n",
    "from matplotlib import pyplot as plt"
   ]
  },
  {
   "cell_type": "markdown",
   "metadata": {},
   "source": [
    "setting up  the training datasett and the test data sett"
   ]
  },
  {
   "cell_type": "code",
   "execution_count": null,
   "metadata": {},
   "outputs": [],
   "source": [
    "transform = transforms.Compose([\n",
    "    transforms.Grayscale(num_output_channels=1),\n",
    "    transforms.Resize((28,28)),\n",
    "    transforms.ToTensor(),\n",
    "    \n",
    "])\n",
    "\n",
    "train_dataset = torchvision.datasets.MNIST(root = './data' , train = True ,transform=transform , download = True)\n",
    "test_dataset = torchvision.datasets.MNIST(root = './data' , train = False ,transform=transform , download = True)\n",
    "\n",
    "train_loader = DataLoader(train_dataset,batch_size=64 , shuffle=True)\n",
    "test_loader = DataLoader(test_dataset,batch_size=64 , shuffle=True)"
   ]
  },
  {
   "cell_type": "markdown",
   "metadata": {},
   "source": [
    "setting up the class for the network "
   ]
  },
  {
   "cell_type": "code",
   "execution_count": null,
   "metadata": {},
   "outputs": [],
   "source": [
    "class CNN(nn.Module):\n",
    "    def __init__(self):\n",
    "        super(CNN,self).__init__()\n",
    "        layer_size = 32 \n",
    "        self.conv1 = nn.Conv2d(in_channels=1,out_channels=layer_size , kernel_size=2 , stride=1 , padding=1)\n",
    "        self.conv2 = nn.Conv2d(in_channels= layer_size , out_channels= 64 , kernel_size=3 , stride=1 , padding=1)\n",
    "        self.pool = nn.MaxPool2d(kernel_size=2 , stride=2 , padding=0)\n",
    "        self.fc1 = nn.Linear(64*7*7,128)\n",
    "        self.fc2 = nn.Linear(128,10)\n",
    "        self.dropout = nn.Dropout(0.33)\n",
    "    def forward(self , x):\n",
    "        x = self.conv1(x)\n",
    "        x = F.relu(x)\n",
    "        x = self.pool(x)\n",
    "\n",
    "        x = self.conv2(x)\n",
    "        x = F.relu(x)\n",
    "        x = self.pool(x)\n",
    "\n",
    "        x=x.view(-1,64*7*7)\n",
    "        x = self.fc1(x)\n",
    "        x=F.relu(x)\n",
    "\n",
    "        x = self.dropout(x)\n",
    "        x = self.fc2(x)\n",
    "\n",
    "        return x \n",
    "\n"
   ]
  },
  {
   "cell_type": "code",
   "execution_count": null,
   "metadata": {},
   "outputs": [],
   "source": [
    "\n",
    "model = CNN()\n",
    "device = torch.device(\"cuda\" if torch.cuda.is_available() else \"cpu\")\n",
    "model.to(device)\n",
    "criterion = nn.CrossEntropyLoss()\n",
    "optimizer = optim.Adam(model.parameters() , lr = 0.001)\n",
    "\n"
   ]
  },
  {
   "cell_type": "code",
   "execution_count": null,
   "metadata": {},
   "outputs": [],
   "source": [
    "epoches = 5\n",
    "\n",
    "y = []\n",
    "for epoch in range(epoches):\n",
    "    model.train()\n",
    "    running_loss = 0.0\n",
    "    for images,labels in train_loader:\n",
    "        images, labels = images.to(device), labels.to(device)\n",
    "        optimizer.zero_grad()\n",
    "        outputs = model(images)\n",
    "        loss = criterion(outputs,labels)\n",
    "        y.append(loss.item())\n",
    "        loss.backward()\n",
    "        optimizer.step()\n",
    "        running_loss += loss.item()\n",
    "    print(f'Epoch [{epoch+1}/{epoches}], Loss: {running_loss/len(train_loader):.4f}')\n",
    "plt.plot(y)\n",
    "    \n"
   ]
  },
  {
   "cell_type": "code",
   "execution_count": null,
   "metadata": {},
   "outputs": [],
   "source": [
    "model.eval()\n",
    "correct = 0 \n",
    "total = 0 \n",
    "test_loss = 0.0\n",
    "y1 = []\n",
    "with torch.no_grad():\n",
    "    for images , labels in test_loader:\n",
    "        images, labels = images.to(device), labels.to(device)\n",
    "        output = model(images)\n",
    "        test_loss += criterion(output , labels).item()\n",
    "        y1.append(criterion(output , labels).item())\n",
    "        _, predict = torch.max(output.data,1)\n",
    "        total += labels.size(0)\n",
    "        correct  += (predict == labels).sum().item()\n",
    "    test_loss /= len(test_loader)\n",
    "    accuracy = 100 * correct / total\n",
    "print(f'Test set: Average loss: {test_loss:.4f}, Accuracy: {correct}/{total} ({accuracy:.0f}%)')\n",
    "plt.plot(y1)\n",
    "plt.ylim([0 , 1])\n",
    "\n"
   ]
  },
  {
   "cell_type": "code",
   "execution_count": null,
   "metadata": {},
   "outputs": [],
   "source": [
    "# Save the model\n",
    "torch.save(model.state_dict(), 'mnist_cnn.pth')"
   ]
  },
  {
   "cell_type": "code",
   "execution_count": null,
   "metadata": {},
   "outputs": [],
   "source": [
    "transform = transforms.Compose([\n",
    "    transforms.Grayscale(num_output_channels=1),\n",
    "    transforms.Resize((28,28)),\n",
    "    transforms.ToTensor(),\n",
    "    \n",
    "])\n",
    "\n",
    "\n",
    "img = Image.open('4.jpg')\n",
    "\n",
    "transformed_img = transform(img)\n",
    "transformed_img = transformed_img.to(device)\n",
    "\n",
    "output = model(transformed_img)\n",
    "\n",
    "predicted_class = output.argmax().item()\n",
    "\n",
    "print(f'predicted class is {predicted_class}')"
   ]
  },
  {
   "cell_type": "code",
   "execution_count": null,
   "metadata": {},
   "outputs": [],
   "source": [
    "def check_number(root):\n",
    "    transform = transforms.Compose([\n",
    "    transforms.Grayscale(num_output_channels=1),\n",
    "    transforms.Resize((28,28)),\n",
    "    transforms.ToTensor(),\n",
    "    \n",
    "    ])\n",
    "    img = Image.open(root)\n",
    "\n",
    "    transformed_img = transform(img)\n",
    "    transformed_img = transformed_img.to(device)\n",
    "\n",
    "    output = model(transformed_img)\n",
    "\n",
    "    predicted_class = output.argmax().item()\n",
    "\n",
    "    print(f'predicted class is {predicted_class}')\n",
    "for i in range(0,10):\n",
    "    image_root = f'{i}.jpg'\n",
    "    check_number(image_root)"
   ]
  }
 ],
 "metadata": {
  "kernelspec": {
   "display_name": "Python 3",
   "language": "python",
   "name": "python3"
  },
  "language_info": {
   "codemirror_mode": {
    "name": "ipython",
    "version": 3
   },
   "file_extension": ".py",
   "mimetype": "text/x-python",
   "name": "python",
   "nbconvert_exporter": "python",
   "pygments_lexer": "ipython3",
   "version": "3.10.8"
  }
 },
 "nbformat": 4,
 "nbformat_minor": 2
}
